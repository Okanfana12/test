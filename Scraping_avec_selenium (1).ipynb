{
 "cells": [
  {
   "cell_type": "code",
   "execution_count": 1,
   "id": "2d451192",
   "metadata": {},
   "outputs": [
    {
     "name": "stdout",
     "output_type": "stream",
     "text": [
      "Requirement already satisfied: selenium in c:\\users\\okanfana\\anaconda3\\lib\\site-packages (4.7.2)\n",
      "Requirement already satisfied: certifi>=2021.10.8 in c:\\users\\okanfana\\anaconda3\\lib\\site-packages (from selenium) (2021.10.8)\n",
      "Requirement already satisfied: trio~=0.17 in c:\\users\\okanfana\\anaconda3\\lib\\site-packages (from selenium) (0.22.0)\n",
      "Requirement already satisfied: trio-websocket~=0.9 in c:\\users\\okanfana\\anaconda3\\lib\\site-packages (from selenium) (0.9.2)\n",
      "Requirement already satisfied: urllib3[socks]~=1.26 in c:\\users\\okanfana\\anaconda3\\lib\\site-packages (from selenium) (1.26.9)\n",
      "Requirement already satisfied: sniffio in c:\\users\\okanfana\\anaconda3\\lib\\site-packages (from trio~=0.17->selenium) (1.2.0)\n",
      "Requirement already satisfied: attrs>=19.2.0 in c:\\users\\okanfana\\anaconda3\\lib\\site-packages (from trio~=0.17->selenium) (21.4.0)\n",
      "Requirement already satisfied: async-generator>=1.9 in c:\\users\\okanfana\\anaconda3\\lib\\site-packages (from trio~=0.17->selenium) (1.10)\n",
      "Requirement already satisfied: exceptiongroup>=1.0.0rc9 in c:\\users\\okanfana\\anaconda3\\lib\\site-packages (from trio~=0.17->selenium) (1.0.4)\n",
      "Requirement already satisfied: cffi>=1.14 in c:\\users\\okanfana\\anaconda3\\lib\\site-packages (from trio~=0.17->selenium) (1.15.0)\n",
      "Requirement already satisfied: idna in c:\\users\\okanfana\\anaconda3\\lib\\site-packages (from trio~=0.17->selenium) (3.3)\n",
      "Requirement already satisfied: outcome in c:\\users\\okanfana\\anaconda3\\lib\\site-packages (from trio~=0.17->selenium) (1.2.0)\n",
      "Requirement already satisfied: sortedcontainers in c:\\users\\okanfana\\anaconda3\\lib\\site-packages (from trio~=0.17->selenium) (2.4.0)\n",
      "Requirement already satisfied: pycparser in c:\\users\\okanfana\\anaconda3\\lib\\site-packages (from cffi>=1.14->trio~=0.17->selenium) (2.21)\n",
      "Requirement already satisfied: wsproto>=0.14 in c:\\users\\okanfana\\anaconda3\\lib\\site-packages (from trio-websocket~=0.9->selenium) (1.2.0)\n",
      "Requirement already satisfied: PySocks!=1.5.7,<2.0,>=1.5.6 in c:\\users\\okanfana\\anaconda3\\lib\\site-packages (from urllib3[socks]~=1.26->selenium) (1.7.1)\n",
      "Requirement already satisfied: h11<1,>=0.9.0 in c:\\users\\okanfana\\anaconda3\\lib\\site-packages (from wsproto>=0.14->trio-websocket~=0.9->selenium) (0.14.0)\n",
      "Note: you may need to restart the kernel to use updated packages.\n"
     ]
    }
   ],
   "source": [
    "%pip install selenium\n",
    "\n",
    "import time\n",
    "\n",
    "from selenium import webdriver\n",
    "\n",
    "from selenium.webdriver.common.by import By\n",
    "\n",
    "from selenium.webdriver.support.ui import WebDriverWait\n",
    "\n",
    "from selenium.webdriver.support import expected_conditions as EC\n",
    "\n",
    "import requests\n",
    "\n",
    "from bs4 import BeautifulSoup as bs\n",
    "\n",
    "import pandas as pd"
   ]
  },
  {
   "cell_type": "markdown",
   "id": "cf45ccfe",
   "metadata": {},
   "source": []
  },
  {
   "cell_type": "code",
   "execution_count": 2,
   "id": "ecdd0a77",
   "metadata": {},
   "outputs": [
    {
     "name": "stderr",
     "output_type": "stream",
     "text": [
      "C:\\Users\\okanfana\\AppData\\Local\\Temp\\ipykernel_11704\\1603638882.py:1: DeprecationWarning: executable_path has been deprecated, please pass in a Service object\n",
      "  driver=webdriver.Chrome(executable_path=r\"C:\\Users\\okanfana\\Downloads\\chromedriver_win32/chromedriver.exe\")\n"
     ]
    },
    {
     "ename": "WebDriverException",
     "evalue": "Message: unknown error: net::ERR_NAME_NOT_RESOLVED\n  (Session info: chrome=108.0.5359.95)\nStacktrace:\nBacktrace:\n\tOrdinal0 [0x0085ACD3+2075859]\n\tOrdinal0 [0x007EEE61+1633889]\n\tOrdinal0 [0x006EB7BD+571325]\n\tOrdinal0 [0x006E7CD2+556242]\n\tOrdinal0 [0x006DEC5D+519261]\n\tOrdinal0 [0x006DFAEC+522988]\n\tOrdinal0 [0x006DEF27+519975]\n\tOrdinal0 [0x006DE2EB+516843]\n\tOrdinal0 [0x006DE231+516657]\n\tOrdinal0 [0x006DD0A3+512163]\n\tOrdinal0 [0x006DD5AD+513453]\n\tOrdinal0 [0x006ED0CE+577742]\n\tOrdinal0 [0x0074BC7D+965757]\n\tOrdinal0 [0x0073731C+881436]\n\tOrdinal0 [0x0074B56A+963946]\n\tOrdinal0 [0x00737136+880950]\n\tOrdinal0 [0x0070FEFD+720637]\n\tOrdinal0 [0x00710F3F+724799]\n\tGetHandleVerifier [0x00B0EED2+2769538]\n\tGetHandleVerifier [0x00B00D95+2711877]\n\tGetHandleVerifier [0x008EA03A+521194]\n\tGetHandleVerifier [0x008E8DA0+516432]\n\tOrdinal0 [0x007F682C+1665068]\n\tOrdinal0 [0x007FB128+1683752]\n\tOrdinal0 [0x007FB215+1683989]\n\tOrdinal0 [0x00806484+1729668]\n\tBaseThreadInitThunk [0x75F7FEF9+25]\n\tRtlGetAppContainerNamedObjectPath [0x77A97BBE+286]\n\tRtlGetAppContainerNamedObjectPath [0x77A97B8E+238]\n",
     "output_type": "error",
     "traceback": [
      "\u001b[1;31m---------------------------------------------------------------------------\u001b[0m",
      "\u001b[1;31mWebDriverException\u001b[0m                        Traceback (most recent call last)",
      "Input \u001b[1;32mIn [2]\u001b[0m, in \u001b[0;36m<cell line: 2>\u001b[1;34m()\u001b[0m\n\u001b[0;32m      1\u001b[0m driver\u001b[38;5;241m=\u001b[39mwebdriver\u001b[38;5;241m.\u001b[39mChrome(executable_path\u001b[38;5;241m=\u001b[39m\u001b[38;5;124mr\u001b[39m\u001b[38;5;124m\"\u001b[39m\u001b[38;5;124mC:\u001b[39m\u001b[38;5;124m\\\u001b[39m\u001b[38;5;124mUsers\u001b[39m\u001b[38;5;124m\\\u001b[39m\u001b[38;5;124mokanfana\u001b[39m\u001b[38;5;124m\\\u001b[39m\u001b[38;5;124mDownloads\u001b[39m\u001b[38;5;124m\\\u001b[39m\u001b[38;5;124mchromedriver_win32/chromedriver.exe\u001b[39m\u001b[38;5;124m\"\u001b[39m)\n\u001b[1;32m----> 2\u001b[0m \u001b[43mdriver\u001b[49m\u001b[38;5;241;43m.\u001b[39;49m\u001b[43mget\u001b[49m\u001b[43m(\u001b[49m\u001b[38;5;124;43m\"\u001b[39;49m\u001b[38;5;124;43mhttps://github.com/topics\u001b[39;49m\u001b[38;5;124;43m\"\u001b[39;49m\u001b[43m)\u001b[49m\n\u001b[0;32m      4\u001b[0m initial_XPATH\u001b[38;5;241m=\u001b[39m\u001b[38;5;124m\"\u001b[39m\u001b[38;5;124m/html/body/div[1]/div[4]/main/div[4]/div[1]/form/button\u001b[39m\u001b[38;5;124m\"\u001b[39m\n\u001b[0;32m      5\u001b[0m max_click_SHOW_MORE \u001b[38;5;241m=\u001b[39m \u001b[38;5;241m2\u001b[39m\n",
      "File \u001b[1;32m~\\Anaconda3\\lib\\site-packages\\selenium\\webdriver\\remote\\webdriver.py:455\u001b[0m, in \u001b[0;36mWebDriver.get\u001b[1;34m(self, url)\u001b[0m\n\u001b[0;32m    451\u001b[0m \u001b[38;5;28;01mdef\u001b[39;00m \u001b[38;5;21mget\u001b[39m(\u001b[38;5;28mself\u001b[39m, url: \u001b[38;5;28mstr\u001b[39m) \u001b[38;5;241m-\u001b[39m\u001b[38;5;241m>\u001b[39m \u001b[38;5;28;01mNone\u001b[39;00m:\n\u001b[0;32m    452\u001b[0m     \u001b[38;5;124;03m\"\"\"\u001b[39;00m\n\u001b[0;32m    453\u001b[0m \u001b[38;5;124;03m    Loads a web page in the current browser session.\u001b[39;00m\n\u001b[0;32m    454\u001b[0m \u001b[38;5;124;03m    \"\"\"\u001b[39;00m\n\u001b[1;32m--> 455\u001b[0m     \u001b[38;5;28;43mself\u001b[39;49m\u001b[38;5;241;43m.\u001b[39;49m\u001b[43mexecute\u001b[49m\u001b[43m(\u001b[49m\u001b[43mCommand\u001b[49m\u001b[38;5;241;43m.\u001b[39;49m\u001b[43mGET\u001b[49m\u001b[43m,\u001b[49m\u001b[43m \u001b[49m\u001b[43m{\u001b[49m\u001b[38;5;124;43m\"\u001b[39;49m\u001b[38;5;124;43murl\u001b[39;49m\u001b[38;5;124;43m\"\u001b[39;49m\u001b[43m:\u001b[49m\u001b[43m \u001b[49m\u001b[43murl\u001b[49m\u001b[43m}\u001b[49m\u001b[43m)\u001b[49m\n",
      "File \u001b[1;32m~\\Anaconda3\\lib\\site-packages\\selenium\\webdriver\\remote\\webdriver.py:444\u001b[0m, in \u001b[0;36mWebDriver.execute\u001b[1;34m(self, driver_command, params)\u001b[0m\n\u001b[0;32m    442\u001b[0m response \u001b[38;5;241m=\u001b[39m \u001b[38;5;28mself\u001b[39m\u001b[38;5;241m.\u001b[39mcommand_executor\u001b[38;5;241m.\u001b[39mexecute(driver_command, params)\n\u001b[0;32m    443\u001b[0m \u001b[38;5;28;01mif\u001b[39;00m response:\n\u001b[1;32m--> 444\u001b[0m     \u001b[38;5;28;43mself\u001b[39;49m\u001b[38;5;241;43m.\u001b[39;49m\u001b[43merror_handler\u001b[49m\u001b[38;5;241;43m.\u001b[39;49m\u001b[43mcheck_response\u001b[49m\u001b[43m(\u001b[49m\u001b[43mresponse\u001b[49m\u001b[43m)\u001b[49m\n\u001b[0;32m    445\u001b[0m     response[\u001b[38;5;124m\"\u001b[39m\u001b[38;5;124mvalue\u001b[39m\u001b[38;5;124m\"\u001b[39m] \u001b[38;5;241m=\u001b[39m \u001b[38;5;28mself\u001b[39m\u001b[38;5;241m.\u001b[39m_unwrap_value(response\u001b[38;5;241m.\u001b[39mget(\u001b[38;5;124m\"\u001b[39m\u001b[38;5;124mvalue\u001b[39m\u001b[38;5;124m\"\u001b[39m, \u001b[38;5;28;01mNone\u001b[39;00m))\n\u001b[0;32m    446\u001b[0m     \u001b[38;5;28;01mreturn\u001b[39;00m response\n",
      "File \u001b[1;32m~\\Anaconda3\\lib\\site-packages\\selenium\\webdriver\\remote\\errorhandler.py:249\u001b[0m, in \u001b[0;36mErrorHandler.check_response\u001b[1;34m(self, response)\u001b[0m\n\u001b[0;32m    247\u001b[0m         alert_text \u001b[38;5;241m=\u001b[39m value[\u001b[38;5;124m\"\u001b[39m\u001b[38;5;124malert\u001b[39m\u001b[38;5;124m\"\u001b[39m]\u001b[38;5;241m.\u001b[39mget(\u001b[38;5;124m\"\u001b[39m\u001b[38;5;124mtext\u001b[39m\u001b[38;5;124m\"\u001b[39m)\n\u001b[0;32m    248\u001b[0m     \u001b[38;5;28;01mraise\u001b[39;00m exception_class(message, screen, stacktrace, alert_text)  \u001b[38;5;66;03m# type: ignore[call-arg]  # mypy is not smart enough here\u001b[39;00m\n\u001b[1;32m--> 249\u001b[0m \u001b[38;5;28;01mraise\u001b[39;00m exception_class(message, screen, stacktrace)\n",
      "\u001b[1;31mWebDriverException\u001b[0m: Message: unknown error: net::ERR_NAME_NOT_RESOLVED\n  (Session info: chrome=108.0.5359.95)\nStacktrace:\nBacktrace:\n\tOrdinal0 [0x0085ACD3+2075859]\n\tOrdinal0 [0x007EEE61+1633889]\n\tOrdinal0 [0x006EB7BD+571325]\n\tOrdinal0 [0x006E7CD2+556242]\n\tOrdinal0 [0x006DEC5D+519261]\n\tOrdinal0 [0x006DFAEC+522988]\n\tOrdinal0 [0x006DEF27+519975]\n\tOrdinal0 [0x006DE2EB+516843]\n\tOrdinal0 [0x006DE231+516657]\n\tOrdinal0 [0x006DD0A3+512163]\n\tOrdinal0 [0x006DD5AD+513453]\n\tOrdinal0 [0x006ED0CE+577742]\n\tOrdinal0 [0x0074BC7D+965757]\n\tOrdinal0 [0x0073731C+881436]\n\tOrdinal0 [0x0074B56A+963946]\n\tOrdinal0 [0x00737136+880950]\n\tOrdinal0 [0x0070FEFD+720637]\n\tOrdinal0 [0x00710F3F+724799]\n\tGetHandleVerifier [0x00B0EED2+2769538]\n\tGetHandleVerifier [0x00B00D95+2711877]\n\tGetHandleVerifier [0x008EA03A+521194]\n\tGetHandleVerifier [0x008E8DA0+516432]\n\tOrdinal0 [0x007F682C+1665068]\n\tOrdinal0 [0x007FB128+1683752]\n\tOrdinal0 [0x007FB215+1683989]\n\tOrdinal0 [0x00806484+1729668]\n\tBaseThreadInitThunk [0x75F7FEF9+25]\n\tRtlGetAppContainerNamedObjectPath [0x77A97BBE+286]\n\tRtlGetAppContainerNamedObjectPath [0x77A97B8E+238]\n"
     ]
    }
   ],
   "source": [
    "\n",
    "driver=webdriver.Chrome(executable_path=r\"C:\\Users\\okanfana\\Downloads\\chromedriver_win32/chromedriver.exe\")\n",
    "driver.get(\"https://github.com/topics\")\n",
    "\n",
    "initial_XPATH=\"/html/body/div[1]/div[4]/main/div[4]/div[1]/form/button\"\n",
    "max_click_SHOW_MORE = 2\n",
    "count = 1 \n",
    "\n",
    "liens=[]"
   ]
  },
  {
   "cell_type": "markdown",
   "id": "2caade41",
   "metadata": {},
   "source": []
  },
  {
   "cell_type": "code",
   "execution_count": null,
   "id": "e88a31ef",
   "metadata": {},
   "outputs": [],
   "source": [
    "while count <= max_click_SHOW_MORE:\n",
    "    time.sleep(20)\n",
    "    WebDriverWait(driver, 50).until(EC.visibility_of_element_located((By.XPATH, initial_XPATH))).click()\n",
    "    time.sleep(50)\n",
    "    \n",
    "    count += 1"
   ]
  },
  {
   "cell_type": "markdown",
   "id": "80a90452",
   "metadata": {},
   "source": []
  },
  {
   "cell_type": "code",
   "execution_count": null,
   "id": "87fecfd1",
   "metadata": {},
   "outputs": [],
   "source": [
    "link1=[]\n",
    "link2=[]\n",
    "link3=[]\n",
    "  \n",
    "for i in range(1,30):\n",
    "    liste1= driver.find_element(\"xpath\",f\"/html/body/div[1]/div[4]/main/div[4]/div[1]/div[1]/div[{i}]/a[1]\")\n",
    "    liste2= driver.find_element(\"xpath\",f\"/html/body/div[1]/div[4]/main/div[4]/div[1]/div[2]/div[{i}]/a[1]\")\n",
    "    liste3= driver.find_element(\"xpath\",f\"/html/body/div[1]/div[4]/main/div[4]/div[1]/div[3]/div[{i}]/a[1]\")\n",
    "    name1=liste1.get_attribute(\"href\")\n",
    "    name2=liste2.get_attribute(\"href\")\n",
    "    name3=liste3.get_attribute(\"href\")\n",
    "    #print(name)\n",
    "    link1.append(name1)\n",
    "    link2.append(name2)\n",
    "    link3.append(name3)\n",
    "\n",
    "topics=link1+link2+link3"
   ]
  },
  {
   "cell_type": "markdown",
   "id": "68110f0a",
   "metadata": {},
   "source": []
  },
  {
   "cell_type": "code",
   "execution_count": null,
   "id": "c663ebac",
   "metadata": {},
   "outputs": [],
   "source": [
    "for topic in topics:\n",
    "    reponse=requests.get(topic)\n",
    "    contenues_html=reponse.text\n",
    "    page_web=bs(contenues_html,'html.parser')\n",
    "    url_list=page_web.find_all('a',class_=\"text-bold wb-break-word\")\n",
    "    #sleep(45)\n",
    "    for url in url_list:\n",
    "        \n",
    "        liens.append(\"https://github.com\"+url['href'])"
   ]
  },
  {
   "cell_type": "markdown",
   "id": "19601eaf",
   "metadata": {},
   "source": []
  },
  {
   "cell_type": "code",
   "execution_count": null,
   "id": "4b2e46c2",
   "metadata": {},
   "outputs": [],
   "source": [
    "test_df=pd.DataFrame({'liens':liens[:1000]})\n",
    "test_df.to_csv('liens_logiciels_selenium.csv')"
   ]
  },
  {
   "cell_type": "code",
   "execution_count": null,
   "id": "0e81a1f2",
   "metadata": {},
   "outputs": [],
   "source": []
  },
  {
   "cell_type": "code",
   "execution_count": null,
   "id": "0a4feffa",
   "metadata": {},
   "outputs": [],
   "source": []
  }
 ],
 "metadata": {
  "kernelspec": {
   "display_name": "Python 3 (ipykernel)",
   "language": "python",
   "name": "python3"
  },
  "language_info": {
   "codemirror_mode": {
    "name": "ipython",
    "version": 3
   },
   "file_extension": ".py",
   "mimetype": "text/x-python",
   "name": "python",
   "nbconvert_exporter": "python",
   "pygments_lexer": "ipython3",
   "version": "3.9.12"
  }
 },
 "nbformat": 4,
 "nbformat_minor": 5
}
